{
 "cells": [
  {
   "cell_type": "code",
   "execution_count": 2,
   "metadata": {},
   "outputs": [],
   "source": [
    "import numpy as np\n",
    "from scipy.stats import t\n",
    "from scipy.stats import norm\n",
    "import matplotlib.pyplot as plt\n",
    "from scipy import stats\n",
    "import pandas as pd\n",
    "import io\n",
    "import requests\n",
    "import seaborn as sns\n",
    "%matplotlib inline"
   ]
  },
  {
   "cell_type": "code",
   "execution_count": null,
   "metadata": {},
   "outputs": [],
   "source": [
    "Задание 1.\n",
    "Загрузить файл\n"
   ]
  },
  {
   "cell_type": "code",
   "execution_count": 3,
   "metadata": {
    "scrolled": false
   },
   "outputs": [
    {
     "data": {
      "text/html": [
       "<div>\n",
       "<style scoped>\n",
       "    .dataframe tbody tr th:only-of-type {\n",
       "        vertical-align: middle;\n",
       "    }\n",
       "\n",
       "    .dataframe tbody tr th {\n",
       "        vertical-align: top;\n",
       "    }\n",
       "\n",
       "    .dataframe thead th {\n",
       "        text-align: right;\n",
       "    }\n",
       "</style>\n",
       "<table border=\"1\" class=\"dataframe\">\n",
       "  <thead>\n",
       "    <tr style=\"text-align: right;\">\n",
       "      <th></th>\n",
       "      <th>satisfaction_level</th>\n",
       "      <th>last_evaluation</th>\n",
       "      <th>number_project</th>\n",
       "      <th>average_montly_hours</th>\n",
       "      <th>time_spend_company</th>\n",
       "      <th>Work_accident</th>\n",
       "      <th>left</th>\n",
       "      <th>promotion_last_5years</th>\n",
       "      <th>sales</th>\n",
       "      <th>salary</th>\n",
       "    </tr>\n",
       "  </thead>\n",
       "  <tbody>\n",
       "    <tr>\n",
       "      <th>0</th>\n",
       "      <td>0.38</td>\n",
       "      <td>0.53</td>\n",
       "      <td>2</td>\n",
       "      <td>157</td>\n",
       "      <td>3</td>\n",
       "      <td>0</td>\n",
       "      <td>1</td>\n",
       "      <td>0</td>\n",
       "      <td>sales</td>\n",
       "      <td>low</td>\n",
       "    </tr>\n",
       "    <tr>\n",
       "      <th>1</th>\n",
       "      <td>0.80</td>\n",
       "      <td>0.86</td>\n",
       "      <td>5</td>\n",
       "      <td>262</td>\n",
       "      <td>6</td>\n",
       "      <td>0</td>\n",
       "      <td>1</td>\n",
       "      <td>0</td>\n",
       "      <td>sales</td>\n",
       "      <td>medium</td>\n",
       "    </tr>\n",
       "    <tr>\n",
       "      <th>2</th>\n",
       "      <td>0.11</td>\n",
       "      <td>0.88</td>\n",
       "      <td>7</td>\n",
       "      <td>272</td>\n",
       "      <td>4</td>\n",
       "      <td>0</td>\n",
       "      <td>1</td>\n",
       "      <td>0</td>\n",
       "      <td>sales</td>\n",
       "      <td>medium</td>\n",
       "    </tr>\n",
       "    <tr>\n",
       "      <th>3</th>\n",
       "      <td>0.72</td>\n",
       "      <td>0.87</td>\n",
       "      <td>5</td>\n",
       "      <td>223</td>\n",
       "      <td>5</td>\n",
       "      <td>0</td>\n",
       "      <td>1</td>\n",
       "      <td>0</td>\n",
       "      <td>sales</td>\n",
       "      <td>low</td>\n",
       "    </tr>\n",
       "    <tr>\n",
       "      <th>4</th>\n",
       "      <td>0.37</td>\n",
       "      <td>0.52</td>\n",
       "      <td>2</td>\n",
       "      <td>159</td>\n",
       "      <td>3</td>\n",
       "      <td>0</td>\n",
       "      <td>1</td>\n",
       "      <td>0</td>\n",
       "      <td>sales</td>\n",
       "      <td>low</td>\n",
       "    </tr>\n",
       "  </tbody>\n",
       "</table>\n",
       "</div>"
      ],
      "text/plain": [
       "   satisfaction_level  last_evaluation  number_project  average_montly_hours  \\\n",
       "0                0.38             0.53               2                   157   \n",
       "1                0.80             0.86               5                   262   \n",
       "2                0.11             0.88               7                   272   \n",
       "3                0.72             0.87               5                   223   \n",
       "4                0.37             0.52               2                   159   \n",
       "\n",
       "   time_spend_company  Work_accident  left  promotion_last_5years  sales  \\\n",
       "0                   3              0     1                      0  sales   \n",
       "1                   6              0     1                      0  sales   \n",
       "2                   4              0     1                      0  sales   \n",
       "3                   5              0     1                      0  sales   \n",
       "4                   3              0     1                      0  sales   \n",
       "\n",
       "   salary  \n",
       "0     low  \n",
       "1  medium  \n",
       "2  medium  \n",
       "3     low  \n",
       "4     low  "
      ]
     },
     "execution_count": 3,
     "metadata": {},
     "output_type": "execute_result"
    }
   ],
   "source": [
    "data = pd.read_csv(\n",
    "    'HR.csv')\n",
    "data.head()"
   ]
  },
  {
   "cell_type": "code",
   "execution_count": null,
   "metadata": {},
   "outputs": [],
   "source": [
    "Задание 2. Рассчитать основные статистики для переменных (среднее, медиана, мода, мин/макс, сред. отклонение)\n",
    "satisfaction_level, average_montly_hours, number_project, last_evaluation, time_spend_company"
   ]
  },
  {
   "cell_type": "code",
   "execution_count": null,
   "metadata": {},
   "outputs": [],
   "source": [
    "Средние значения"
   ]
  },
  {
   "cell_type": "code",
   "execution_count": 44,
   "metadata": {
    "scrolled": false
   },
   "outputs": [
    {
     "name": "stdout",
     "output_type": "stream",
     "text": [
      "Среднее значение satisfaction_level : 0.6128335222348166\n",
      "Среднее значение last_evaluation : 0.7161017401159978\n",
      "Среднее значение number_project : 3.80305353690246\n",
      "Среднее значение average_montly_hours : 201.0503366891126\n",
      "Среднее значение time_spend_company : 3.498233215547703\n"
     ]
    }
   ],
   "source": [
    "print(\"Среднее значение satisfaction_level : {}\".format(np.mean(data['satisfaction_level'])))\n",
    "print(\"Среднее значение last_evaluation : {}\".format(np.mean(data['last_evaluation'])))\n",
    "print(\"Среднее значение number_project : {}\".format(np.mean(data['number_project'])))\n",
    "print(\"Среднее значение average_montly_hours : {}\".format(np.mean(data['average_montly_hours'])))\n",
    "print(\"Среднее значение time_spend_company : {}\".format(np.mean(data['time_spend_company'])))"
   ]
  },
  {
   "cell_type": "code",
   "execution_count": null,
   "metadata": {},
   "outputs": [],
   "source": [
    "Медиана"
   ]
  },
  {
   "cell_type": "code",
   "execution_count": 45,
   "metadata": {
    "scrolled": true
   },
   "outputs": [
    {
     "name": "stdout",
     "output_type": "stream",
     "text": [
      "Медиана satisfaction_level :  0.64\n",
      "Медиана last_evaluation :  0.72\n",
      "Медиана number_project :  4\n",
      "Медиана average_montly_hours :  200\n",
      "Медиана time_spend_company :  3\n"
     ]
    }
   ],
   "source": [
    "import statistics\n",
    "print('Медиана satisfaction_level : ', statistics.median(data['satisfaction_level']))\n",
    "print('Медиана last_evaluation : ', statistics.median(data['last_evaluation']))\n",
    "print('Медиана number_project : ', statistics.median(data['number_project']))\n",
    "print('Медиана average_montly_hours : ', statistics.median(data['average_montly_hours']))\n",
    "print('Медиана time_spend_company : ', statistics.median(data['time_spend_company']))"
   ]
  },
  {
   "cell_type": "code",
   "execution_count": null,
   "metadata": {},
   "outputs": [],
   "source": [
    "Мода"
   ]
  },
  {
   "cell_type": "code",
   "execution_count": 35,
   "metadata": {
    "scrolled": false
   },
   "outputs": [
    {
     "name": "stdout",
     "output_type": "stream",
     "text": [
      "Мода satisfaction_level :  0.1\n",
      "Мода last_evaluation :  0.55\n",
      "Мода number_project :  4\n",
      "Мода time_spend_company :  3\n"
     ]
    }
   ],
   "source": [
    "print('Мода satisfaction_level : ', statistics.mode(data['satisfaction_level']))\n",
    "print('Мода last_evaluation : ', statistics.mode(data['last_evaluation']))\n",
    "print('Мода number_project : ', statistics.mode(data['number_project']))\n",
    "print('Мода time_spend_company : ', statistics.mode(data['time_spend_company']))"
   ]
  },
  {
   "cell_type": "code",
   "execution_count": null,
   "metadata": {},
   "outputs": [],
   "source": [
    "Минимум и Максимум "
   ]
  },
  {
   "cell_type": "code",
   "execution_count": 60,
   "metadata": {},
   "outputs": [],
   "source": [
    "satisfaction_level_mm = data['satisfaction_level']"
   ]
  },
  {
   "cell_type": "code",
   "execution_count": 61,
   "metadata": {
    "scrolled": true
   },
   "outputs": [
    {
     "data": {
      "text/plain": [
       "1.0"
      ]
     },
     "execution_count": 61,
     "metadata": {},
     "output_type": "execute_result"
    }
   ],
   "source": [
    "max(satisfaction_level_mm)"
   ]
  },
  {
   "cell_type": "code",
   "execution_count": 62,
   "metadata": {},
   "outputs": [
    {
     "data": {
      "text/plain": [
       "0.09"
      ]
     },
     "execution_count": 62,
     "metadata": {},
     "output_type": "execute_result"
    }
   ],
   "source": [
    "min(satisfaction_level_mm)"
   ]
  },
  {
   "cell_type": "code",
   "execution_count": 65,
   "metadata": {},
   "outputs": [],
   "source": [
    "last_evaluation_level_mm = data['last_evaluation']"
   ]
  },
  {
   "cell_type": "code",
   "execution_count": 66,
   "metadata": {},
   "outputs": [
    {
     "data": {
      "text/plain": [
       "1.0"
      ]
     },
     "execution_count": 66,
     "metadata": {},
     "output_type": "execute_result"
    }
   ],
   "source": [
    "max(last_evaluation_level_mm)"
   ]
  },
  {
   "cell_type": "code",
   "execution_count": 67,
   "metadata": {},
   "outputs": [
    {
     "data": {
      "text/plain": [
       "0.36"
      ]
     },
     "execution_count": 67,
     "metadata": {},
     "output_type": "execute_result"
    }
   ],
   "source": [
    "min(last_evaluation_level_mm)"
   ]
  },
  {
   "cell_type": "code",
   "execution_count": 68,
   "metadata": {},
   "outputs": [],
   "source": [
    "number_project_mm = data['number_project']"
   ]
  },
  {
   "cell_type": "code",
   "execution_count": 69,
   "metadata": {},
   "outputs": [
    {
     "data": {
      "text/plain": [
       "7"
      ]
     },
     "execution_count": 69,
     "metadata": {},
     "output_type": "execute_result"
    }
   ],
   "source": [
    "max(number_project_mm)"
   ]
  },
  {
   "cell_type": "code",
   "execution_count": 70,
   "metadata": {},
   "outputs": [
    {
     "data": {
      "text/plain": [
       "2"
      ]
     },
     "execution_count": 70,
     "metadata": {},
     "output_type": "execute_result"
    }
   ],
   "source": [
    "min(number_project_mm)"
   ]
  },
  {
   "cell_type": "code",
   "execution_count": 71,
   "metadata": {},
   "outputs": [],
   "source": [
    "time_spend_company_mm = data['time_spend_company']"
   ]
  },
  {
   "cell_type": "code",
   "execution_count": 72,
   "metadata": {},
   "outputs": [
    {
     "data": {
      "text/plain": [
       "10"
      ]
     },
     "execution_count": 72,
     "metadata": {},
     "output_type": "execute_result"
    }
   ],
   "source": [
    "max(time_spend_company_mm)"
   ]
  },
  {
   "cell_type": "code",
   "execution_count": 73,
   "metadata": {},
   "outputs": [
    {
     "data": {
      "text/plain": [
       "2"
      ]
     },
     "execution_count": 73,
     "metadata": {},
     "output_type": "execute_result"
    }
   ],
   "source": [
    "min(time_spend_company_mm)"
   ]
  },
  {
   "cell_type": "code",
   "execution_count": 74,
   "metadata": {},
   "outputs": [],
   "source": [
    "average_montly_hours_mm = data['average_montly_hours']"
   ]
  },
  {
   "cell_type": "code",
   "execution_count": 75,
   "metadata": {},
   "outputs": [
    {
     "data": {
      "text/plain": [
       "310"
      ]
     },
     "execution_count": 75,
     "metadata": {},
     "output_type": "execute_result"
    }
   ],
   "source": [
    "max(average_montly_hours_mm)"
   ]
  },
  {
   "cell_type": "code",
   "execution_count": 76,
   "metadata": {},
   "outputs": [
    {
     "data": {
      "text/plain": [
       "96"
      ]
     },
     "execution_count": 76,
     "metadata": {},
     "output_type": "execute_result"
    }
   ],
   "source": [
    "min(average_montly_hours_mm)"
   ]
  },
  {
   "cell_type": "code",
   "execution_count": null,
   "metadata": {},
   "outputs": [],
   "source": [
    "Сред. отклонение"
   ]
  },
  {
   "cell_type": "code",
   "execution_count": 77,
   "metadata": {},
   "outputs": [
    {
     "data": {
      "text/plain": [
       "0.2486223626820733"
      ]
     },
     "execution_count": 77,
     "metadata": {},
     "output_type": "execute_result"
    }
   ],
   "source": [
    "statistics.pstdev(satisfaction_level_mm)"
   ]
  },
  {
   "cell_type": "code",
   "execution_count": 78,
   "metadata": {},
   "outputs": [
    {
     "data": {
      "text/plain": [
       "0.1711634045107436"
      ]
     },
     "execution_count": 78,
     "metadata": {},
     "output_type": "execute_result"
    }
   ],
   "source": [
    "statistics.pstdev(last_evaluation_level_mm)"
   ]
  },
  {
   "cell_type": "code",
   "execution_count": 79,
   "metadata": {},
   "outputs": [
    {
     "data": {
      "text/plain": [
       "1.2325512654823438"
      ]
     },
     "execution_count": 79,
     "metadata": {},
     "output_type": "execute_result"
    }
   ],
   "source": [
    "statistics.pstdev(number_project_mm)"
   ]
  },
  {
   "cell_type": "code",
   "execution_count": 80,
   "metadata": {},
   "outputs": [
    {
     "data": {
      "text/plain": [
       "1.4600875552715114"
      ]
     },
     "execution_count": 80,
     "metadata": {},
     "output_type": "execute_result"
    }
   ],
   "source": [
    "statistics.pstdev(time_spend_company_mm)"
   ]
  },
  {
   "cell_type": "code",
   "execution_count": 81,
   "metadata": {},
   "outputs": [
    {
     "data": {
      "text/plain": [
       "49.94143446256218"
      ]
     },
     "execution_count": 81,
     "metadata": {},
     "output_type": "execute_result"
    }
   ],
   "source": [
    "statistics.pstdev(average_montly_hours_mm)"
   ]
  },
  {
   "cell_type": "code",
   "execution_count": null,
   "metadata": {},
   "outputs": [],
   "source": []
  },
  {
   "cell_type": "code",
   "execution_count": null,
   "metadata": {},
   "outputs": [],
   "source": [
    "Задание 3.Рассчитать и визуализировать корреляционную матрицу для переменных"
   ]
  },
  {
   "cell_type": "code",
   "execution_count": 24,
   "metadata": {
    "scrolled": true
   },
   "outputs": [
    {
     "data": {
      "image/png": "[encoded data removed]",
      "text/plain": [
       "<Figure size 1080x864 with 2 Axes>"
      ]
     },
     "metadata": {
      "needs_background": "light"
     },
     "output_type": "display_data"
    }
   ],
   "source": [
    "correlation_matrix = data.corr(method ='pearson').round(2)\n",
    "sns.heatmap(data=correlation_matrix, annot=True, cmap='RdYlGn',linewidths=0.2)\n",
    "fig=plt.gcf()\n",
    "fig.set_size_inches(15,12)\n",
    "plt.show()"
   ]
  },
  {
   "cell_type": "code",
   "execution_count": 28,
   "metadata": {},
   "outputs": [
    {
     "name": "stdout",
     "output_type": "stream",
     "text": [
      "[-0.39, -0.15, -0.06, 0.01, 0.02, 0.07, 0.14, 1.0]\n"
     ]
    }
   ],
   "source": [
    "print(sorted(correlation_matrix['left']))"
   ]
  },
  {
   "cell_type": "code",
   "execution_count": null,
   "metadata": {},
   "outputs": [],
   "source": [
    "Задание 4. Визуализировать несколько взаимосвязей между переменными"
   ]
  },
  {
   "cell_type": "code",
   "execution_count": null,
   "metadata": {},
   "outputs": [],
   "source": [
    "Чтобы визуализировать взаимосвязь между переменными можно построить точечный график или скатерплот"
   ]
  },
  {
   "cell_type": "code",
   "execution_count": null,
   "metadata": {},
   "outputs": [],
   "source": [
    "#Взаимосвязь между удовлетворенностью сотрудников и количеству отработанных часов"
   ]
  },
  {
   "cell_type": "code",
   "execution_count": 85,
   "metadata": {},
   "outputs": [
    {
     "data": {
      "text/plain": [
       "<matplotlib.collections.PathCollection at 0xce5e908>"
      ]
     },
     "execution_count": 85,
     "metadata": {},
     "output_type": "execute_result"
    },
    {
     "data": {
      "image/png": "[encoded data removed]",
      "text/plain": [
       "<Figure size 432x288 with 1 Axes>"
      ]
     },
     "metadata": {
      "needs_background": "light"
     },
     "output_type": "display_data"
    }
   ],
   "source": [
    "satisfaction_level = data['satisfaction_level']\n",
    "average_montly_hours = data['average_montly_hours']\n",
    "plt.xlabel('выборка satisfaction_level')\n",
    "plt.ylabel('выборка average_montly_hours')\n",
    "plt.title('Точечный график зависимости двух выборок x и y')\n",
    "plt.grid(True)\n",
    "plt.scatter(satisfaction_level, average_montly_hours, marker='.')"
   ]
  },
  {
   "cell_type": "code",
   "execution_count": null,
   "metadata": {},
   "outputs": [],
   "source": [
    "По такому графику очень сложно понять насколько взаимосвязаны две переменные"
   ]
  },
  {
   "cell_type": "code",
   "execution_count": null,
   "metadata": {},
   "outputs": [],
   "source": [
    "#Построим график между временем проведенным в компании и оценкой сотрудника"
   ]
  },
  {
   "cell_type": "code",
   "execution_count": 84,
   "metadata": {},
   "outputs": [
    {
     "data": {
      "text/plain": [
       "<matplotlib.collections.PathCollection at 0xcbd5a58>"
      ]
     },
     "execution_count": 84,
     "metadata": {},
     "output_type": "execute_result"
    },
    {
     "data": {
      "image/png": "[encoded data removed]",
      "text/plain": [
       "<Figure size 432x288 with 1 Axes>"
      ]
     },
     "metadata": {
      "needs_background": "light"
     },
     "output_type": "display_data"
    }
   ],
   "source": [
    "time_spend_company = data['time_spend_company']\n",
    "last_evaluation = data['last_evaluation']\n",
    "plt.xlabel('выборка time_spend_company')\n",
    "plt.ylabel('выборка last_evaluation')\n",
    "plt.title('Точечный график зависимости двух выборок x и y')\n",
    "plt.grid(True)\n",
    "plt.scatter(time_spend_company, last_evaluation, marker='.')"
   ]
  },
  {
   "cell_type": "code",
   "execution_count": null,
   "metadata": {},
   "outputs": [],
   "source": [
    "На графике видно, что время проведенное в компании имеет полный спекто оценок, но с увеличением срока в некоторых оценках\n",
    "появляются пробелы"
   ]
  },
  {
   "cell_type": "code",
   "execution_count": null,
   "metadata": {},
   "outputs": [],
   "source": [
    "#Построим график между time_spend_compan в компании и number_project"
   ]
  },
  {
   "cell_type": "code",
   "execution_count": 86,
   "metadata": {
    "scrolled": true
   },
   "outputs": [
    {
     "data": {
      "text/plain": [
       "<matplotlib.collections.PathCollection at 0xceb7710>"
      ]
     },
     "execution_count": 86,
     "metadata": {},
     "output_type": "execute_result"
    },
    {
     "data": {
      "image/png": "[encoded data removed]",
      "text/plain": [
       "<Figure size 432x288 with 1 Axes>"
      ]
     },
     "metadata": {
      "needs_background": "light"
     },
     "output_type": "display_data"
    }
   ],
   "source": [
    "time_spend_company = data['time_spend_company']\n",
    "number_project = data['number_project']\n",
    "plt.xlabel('выборка time_spend_company')\n",
    "plt.ylabel('выборка number_project')\n",
    "plt.title('Точечный график зависимости двух выборок x и y')\n",
    "plt.grid(True)\n",
    "plt.scatter(time_spend_company, number_project, marker='.')"
   ]
  },
  {
   "cell_type": "code",
   "execution_count": null,
   "metadata": {},
   "outputs": [],
   "source": [
    "По данному графику тоже трудно сделать какие нибудь выводы о взаимосвязи переменных"
   ]
  },
  {
   "cell_type": "code",
   "execution_count": null,
   "metadata": {},
   "outputs": [],
   "source": [
    "Задание 5.С использованием t-test статистики проверить взаимосвязи между несколькими переменными.\n",
    "Выдвенем гипотезу, что чем больше сотрудник отработал часов, то тем с меньшей вероятностью он уволиться."
   ]
  },
  {
   "cell_type": "code",
   "execution_count": 95,
   "metadata": {},
   "outputs": [
    {
     "data": {
      "text/plain": [
       "Ttest_indResult(statistic=-8.752254731850009, pvalue=2.3113035567540143e-18)"
      ]
     },
     "execution_count": 95,
     "metadata": {},
     "output_type": "execute_result"
    }
   ],
   "source": [
    "noleft_people = data[data['left']==0]['average_montly_hours']\n",
    "\n",
    "left_people = data[data['left']==1]['average_montly_hours']\n",
    "\n",
    "stats.ttest_ind(noleft_people, left_people)"
   ]
  },
  {
   "cell_type": "code",
   "execution_count": null,
   "metadata": {},
   "outputs": [],
   "source": [
    "Данные pvalue говорят о том что наша гипотеза не верна. Посмотрим на графике"
   ]
  },
  {
   "cell_type": "code",
   "execution_count": 99,
   "metadata": {},
   "outputs": [
    {
     "name": "stdout",
     "output_type": "stream",
     "text": [
      "Количество уволившихся:  3571\n",
      "Количество неуволившихся:  11428\n"
     ]
    }
   ],
   "source": [
    "c_left = data[data['left']==1]\n",
    "d_left = data[data['left']==0]\n",
    "print('Количество уволившихся: ', len(c_left))\n",
    "print('Количество неуволившихся: ', len(d_left))"
   ]
  },
  {
   "cell_type": "code",
   "execution_count": 100,
   "metadata": {},
   "outputs": [
    {
     "data": {
      "image/png": "[encoded data removed]",
      "text/plain": [
       "<Figure size 432x288 with 1 Axes>"
      ]
     },
     "metadata": {
      "needs_background": "light"
     },
     "output_type": "display_data"
    }
   ],
   "source": [
    "sns.distplot(noleft_people)\n",
    "sns.distplot(left_people)\n",
    "plt.title('Плотность вероятности распределения average_montly_hours')\n",
    "plt.legend(['неуволившиеся', 'уволившиеся'])\n",
    "plt.show()"
   ]
  },
  {
   "cell_type": "code",
   "execution_count": null,
   "metadata": {},
   "outputs": [],
   "source": [
    "На графике видно, что чаще увольняются отработавшие моло часов и очень много. Со 150 до 250 часов\n",
    "увольняются редко.\n"
   ]
  },
  {
   "cell_type": "code",
   "execution_count": null,
   "metadata": {},
   "outputs": [],
   "source": [
    "Сравним уволившихся и оставшихся сотрудников по показателю удовлетворенности. Выдвинем гипотезу, что наиболее\n",
    "удовлетворенные сотрудники реже увольняются реже."
   ]
  },
  {
   "cell_type": "code",
   "execution_count": 101,
   "metadata": {},
   "outputs": [
    {
     "data": {
      "text/plain": [
       "Ttest_indResult(statistic=51.61280155890104, pvalue=0.0)"
      ]
     },
     "execution_count": 101,
     "metadata": {},
     "output_type": "execute_result"
    }
   ],
   "source": [
    "noleft_satisfaction = data[data['left']==0]['satisfaction_level']\n",
    "\n",
    "left_satisfaction = data[data['left']==1]['satisfaction_level']\n",
    "\n",
    "stats.ttest_ind(noleft_satisfaction, left_satisfaction)"
   ]
  },
  {
   "cell_type": "code",
   "execution_count": null,
   "metadata": {},
   "outputs": [],
   "source": [
    "Значение pvalue равно 0 значит группы статистически значимы и наша гипотеза верна."
   ]
  },
  {
   "cell_type": "code",
   "execution_count": 102,
   "metadata": {
    "scrolled": true
   },
   "outputs": [
    {
     "data": {
      "image/png": "[encoded data removed]",
      "text/plain": [
       "<Figure size 432x288 with 1 Axes>"
      ]
     },
     "metadata": {
      "needs_background": "light"
     },
     "output_type": "display_data"
    }
   ],
   "source": [
    "sns.distplot(noleft_satisfaction)\n",
    "sns.distplot(left_satisfaction)\n",
    "plt.title('Плотность вероятности распределения satisfaction_level')\n",
    "plt.legend(['неуволившиеся', 'уволившиеся'])\n",
    "plt.show()"
   ]
  },
  {
   "cell_type": "code",
   "execution_count": null,
   "metadata": {},
   "outputs": [],
   "source": [
    "Задание 6. Рассчитать сколько работников работает в каждом департаменте"
   ]
  },
  {
   "cell_type": "code",
   "execution_count": 20,
   "metadata": {},
   "outputs": [
    {
     "data": {
      "text/plain": [
       "sales          4140\n",
       "technical      2720\n",
       "support        2229\n",
       "IT             1227\n",
       "product_mng     902\n",
       "Name: sales, dtype: int64"
      ]
     },
     "execution_count": 20,
     "metadata": {},
     "output_type": "execute_result"
    }
   ],
   "source": [
    "data['sales'].value_counts().head()"
   ]
  },
  {
   "cell_type": "code",
   "execution_count": null,
   "metadata": {},
   "outputs": [],
   "source": [
    "Задание 7. Показать распределение сотрудников по зарплатам"
   ]
  },
  {
   "cell_type": "code",
   "execution_count": 29,
   "metadata": {},
   "outputs": [
    {
     "name": "stdout",
     "output_type": "stream",
     "text": [
      "low       7316\n",
      "medium    6446\n",
      "high      1237\n",
      "Name: salary, dtype: int64\n"
     ]
    },
    {
     "data": {
      "text/plain": [
       "<matplotlib.axes._subplots.AxesSubplot at 0xbf2d358>"
      ]
     },
     "execution_count": 29,
     "metadata": {},
     "output_type": "execute_result"
    },
    {
     "data": {
      "image/png": "[encoded data removed]",
      "text/plain": [
       "<Figure size 432x288 with 1 Axes>"
      ]
     },
     "metadata": {
      "needs_background": "light"
     },
     "output_type": "display_data"
    }
   ],
   "source": [
    "salary_counts = data['salary'].value_counts()\n",
    "print(salary_counts)\n",
    "salary_counts.plot(kind='bar', color=['blue', 'red', 'green'])"
   ]
  },
  {
   "cell_type": "code",
   "execution_count": null,
   "metadata": {},
   "outputs": [],
   "source": [
    "Задание 8. Показать распределение сотрудников по зарплатам совместно с департаментами"
   ]
  },
  {
   "cell_type": "code",
   "execution_count": 26,
   "metadata": {},
   "outputs": [
    {
     "data": {
      "text/html": [
       "<div>\n",
       "<style scoped>\n",
       "    .dataframe tbody tr th:only-of-type {\n",
       "        vertical-align: middle;\n",
       "    }\n",
       "\n",
       "    .dataframe tbody tr th {\n",
       "        vertical-align: top;\n",
       "    }\n",
       "\n",
       "    .dataframe thead th {\n",
       "        text-align: right;\n",
       "    }\n",
       "</style>\n",
       "<table border=\"1\" class=\"dataframe\">\n",
       "  <thead>\n",
       "    <tr style=\"text-align: right;\">\n",
       "      <th></th>\n",
       "      <th></th>\n",
       "      <th>satisfaction_level</th>\n",
       "      <th>last_evaluation</th>\n",
       "      <th>number_project</th>\n",
       "      <th>average_montly_hours</th>\n",
       "      <th>time_spend_company</th>\n",
       "      <th>Work_accident</th>\n",
       "      <th>left</th>\n",
       "      <th>promotion_last_5years</th>\n",
       "    </tr>\n",
       "    <tr>\n",
       "      <th>salary</th>\n",
       "      <th>sales</th>\n",
       "      <th></th>\n",
       "      <th></th>\n",
       "      <th></th>\n",
       "      <th></th>\n",
       "      <th></th>\n",
       "      <th></th>\n",
       "      <th></th>\n",
       "      <th></th>\n",
       "    </tr>\n",
       "  </thead>\n",
       "  <tbody>\n",
       "    <tr>\n",
       "      <th rowspan=\"10\" valign=\"top\">high</th>\n",
       "      <th>IT</th>\n",
       "      <td>52.97</td>\n",
       "      <td>59.48</td>\n",
       "      <td>321</td>\n",
       "      <td>16179</td>\n",
       "      <td>255</td>\n",
       "      <td>4</td>\n",
       "      <td>4</td>\n",
       "      <td>0</td>\n",
       "    </tr>\n",
       "    <tr>\n",
       "      <th>RandD</th>\n",
       "      <td>29.92</td>\n",
       "      <td>35.73</td>\n",
       "      <td>192</td>\n",
       "      <td>10187</td>\n",
       "      <td>180</td>\n",
       "      <td>9</td>\n",
       "      <td>4</td>\n",
       "      <td>1</td>\n",
       "    </tr>\n",
       "    <tr>\n",
       "      <th>accounting</th>\n",
       "      <td>45.44</td>\n",
       "      <td>53.62</td>\n",
       "      <td>289</td>\n",
       "      <td>15237</td>\n",
       "      <td>238</td>\n",
       "      <td>15</td>\n",
       "      <td>5</td>\n",
       "      <td>6</td>\n",
       "    </tr>\n",
       "    <tr>\n",
       "      <th>hr</th>\n",
       "      <td>30.29</td>\n",
       "      <td>33.47</td>\n",
       "      <td>175</td>\n",
       "      <td>9408</td>\n",
       "      <td>131</td>\n",
       "      <td>4</td>\n",
       "      <td>6</td>\n",
       "      <td>2</td>\n",
       "    </tr>\n",
       "    <tr>\n",
       "      <th>management</th>\n",
       "      <td>147.00</td>\n",
       "      <td>161.06</td>\n",
       "      <td>850</td>\n",
       "      <td>45056</td>\n",
       "      <td>1162</td>\n",
       "      <td>36</td>\n",
       "      <td>1</td>\n",
       "      <td>45</td>\n",
       "    </tr>\n",
       "    <tr>\n",
       "      <th>marketing</th>\n",
       "      <td>48.42</td>\n",
       "      <td>53.09</td>\n",
       "      <td>274</td>\n",
       "      <td>14846</td>\n",
       "      <td>281</td>\n",
       "      <td>13</td>\n",
       "      <td>9</td>\n",
       "      <td>5</td>\n",
       "    </tr>\n",
       "    <tr>\n",
       "      <th>product_mng</th>\n",
       "      <td>41.76</td>\n",
       "      <td>45.27</td>\n",
       "      <td>252</td>\n",
       "      <td>13235</td>\n",
       "      <td>246</td>\n",
       "      <td>13</td>\n",
       "      <td>6</td>\n",
       "      <td>0</td>\n",
       "    </tr>\n",
       "    <tr>\n",
       "      <th>sales</th>\n",
       "      <td>174.57</td>\n",
       "      <td>188.25</td>\n",
       "      <td>1038</td>\n",
       "      <td>54117</td>\n",
       "      <td>955</td>\n",
       "      <td>37</td>\n",
       "      <td>14</td>\n",
       "      <td>12</td>\n",
       "    </tr>\n",
       "    <tr>\n",
       "      <th>support</th>\n",
       "      <td>92.36</td>\n",
       "      <td>100.69</td>\n",
       "      <td>535</td>\n",
       "      <td>28762</td>\n",
       "      <td>454</td>\n",
       "      <td>31</td>\n",
       "      <td>8</td>\n",
       "      <td>0</td>\n",
       "    </tr>\n",
       "    <tr>\n",
       "      <th>technical</th>\n",
       "      <td>125.82</td>\n",
       "      <td>140.59</td>\n",
       "      <td>734</td>\n",
       "      <td>40209</td>\n",
       "      <td>666</td>\n",
       "      <td>30</td>\n",
       "      <td>25</td>\n",
       "      <td>1</td>\n",
       "    </tr>\n",
       "    <tr>\n",
       "      <th rowspan=\"10\" valign=\"top\">low</th>\n",
       "      <th>IT</th>\n",
       "      <td>371.55</td>\n",
       "      <td>435.84</td>\n",
       "      <td>2311</td>\n",
       "      <td>122642</td>\n",
       "      <td>2094</td>\n",
       "      <td>89</td>\n",
       "      <td>172</td>\n",
       "      <td>2</td>\n",
       "    </tr>\n",
       "    <tr>\n",
       "      <th>RandD</th>\n",
       "      <td>227.11</td>\n",
       "      <td>259.96</td>\n",
       "      <td>1385</td>\n",
       "      <td>72344</td>\n",
       "      <td>1231</td>\n",
       "      <td>71</td>\n",
       "      <td>55</td>\n",
       "      <td>3</td>\n",
       "    </tr>\n",
       "    <tr>\n",
       "      <th>accounting</th>\n",
       "      <td>205.55</td>\n",
       "      <td>255.57</td>\n",
       "      <td>1361</td>\n",
       "      <td>71564</td>\n",
       "      <td>1231</td>\n",
       "      <td>40</td>\n",
       "      <td>99</td>\n",
       "      <td>2</td>\n",
       "    </tr>\n",
       "    <tr>\n",
       "      <th>hr</th>\n",
       "      <td>203.90</td>\n",
       "      <td>240.47</td>\n",
       "      <td>1237</td>\n",
       "      <td>67823</td>\n",
       "      <td>1092</td>\n",
       "      <td>46</td>\n",
       "      <td>92</td>\n",
       "      <td>2</td>\n",
       "    </tr>\n",
       "    <tr>\n",
       "      <th>management</th>\n",
       "      <td>109.93</td>\n",
       "      <td>128.31</td>\n",
       "      <td>680</td>\n",
       "      <td>36134</td>\n",
       "      <td>614</td>\n",
       "      <td>30</td>\n",
       "      <td>59</td>\n",
       "      <td>7</td>\n",
       "    </tr>\n",
       "    <tr>\n",
       "      <th>marketing</th>\n",
       "      <td>242.37</td>\n",
       "      <td>292.49</td>\n",
       "      <td>1508</td>\n",
       "      <td>82204</td>\n",
       "      <td>1418</td>\n",
       "      <td>62</td>\n",
       "      <td>126</td>\n",
       "      <td>11</td>\n",
       "    </tr>\n",
       "    <tr>\n",
       "      <th>product_mng</th>\n",
       "      <td>280.03</td>\n",
       "      <td>327.35</td>\n",
       "      <td>1725</td>\n",
       "      <td>90673</td>\n",
       "      <td>1549</td>\n",
       "      <td>68</td>\n",
       "      <td>105</td>\n",
       "      <td>0</td>\n",
       "    </tr>\n",
       "    <tr>\n",
       "      <th>sales</th>\n",
       "      <td>1261.16</td>\n",
       "      <td>1488.71</td>\n",
       "      <td>7888</td>\n",
       "      <td>420562</td>\n",
       "      <td>7271</td>\n",
       "      <td>265</td>\n",
       "      <td>697</td>\n",
       "      <td>20</td>\n",
       "    </tr>\n",
       "    <tr>\n",
       "      <th>support</th>\n",
       "      <td>678.10</td>\n",
       "      <td>824.54</td>\n",
       "      <td>4340</td>\n",
       "      <td>227940</td>\n",
       "      <td>3993</td>\n",
       "      <td>174</td>\n",
       "      <td>389</td>\n",
       "      <td>7</td>\n",
       "    </tr>\n",
       "    <tr>\n",
       "      <th>technical</th>\n",
       "      <td>815.41</td>\n",
       "      <td>992.46</td>\n",
       "      <td>5365</td>\n",
       "      <td>278605</td>\n",
       "      <td>4661</td>\n",
       "      <td>195</td>\n",
       "      <td>378</td>\n",
       "      <td>12</td>\n",
       "    </tr>\n",
       "    <tr>\n",
       "      <th rowspan=\"10\" valign=\"top\">medium</th>\n",
       "      <th>IT</th>\n",
       "      <td>333.94</td>\n",
       "      <td>384.23</td>\n",
       "      <td>2051</td>\n",
       "      <td>109298</td>\n",
       "      <td>1907</td>\n",
       "      <td>71</td>\n",
       "      <td>97</td>\n",
       "      <td>1</td>\n",
       "    </tr>\n",
       "    <tr>\n",
       "      <th>RandD</th>\n",
       "      <td>230.77</td>\n",
       "      <td>264.75</td>\n",
       "      <td>1456</td>\n",
       "      <td>75499</td>\n",
       "      <td>1239</td>\n",
       "      <td>54</td>\n",
       "      <td>62</td>\n",
       "      <td>23</td>\n",
       "    </tr>\n",
       "    <tr>\n",
       "      <th>accounting</th>\n",
       "      <td>195.52</td>\n",
       "      <td>241.30</td>\n",
       "      <td>1284</td>\n",
       "      <td>67491</td>\n",
       "      <td>1233</td>\n",
       "      <td>41</td>\n",
       "      <td>100</td>\n",
       "      <td>6</td>\n",
       "    </tr>\n",
       "    <tr>\n",
       "      <th>hr</th>\n",
       "      <td>208.33</td>\n",
       "      <td>249.90</td>\n",
       "      <td>1289</td>\n",
       "      <td>69597</td>\n",
       "      <td>1257</td>\n",
       "      <td>39</td>\n",
       "      <td>117</td>\n",
       "      <td>11</td>\n",
       "    </tr>\n",
       "    <tr>\n",
       "      <th>management</th>\n",
       "      <td>134.52</td>\n",
       "      <td>166.75</td>\n",
       "      <td>902</td>\n",
       "      <td>45597</td>\n",
       "      <td>935</td>\n",
       "      <td>37</td>\n",
       "      <td>31</td>\n",
       "      <td>17</td>\n",
       "    </tr>\n",
       "    <tr>\n",
       "      <th>marketing</th>\n",
       "      <td>239.97</td>\n",
       "      <td>268.65</td>\n",
       "      <td>1382</td>\n",
       "      <td>74023</td>\n",
       "      <td>1364</td>\n",
       "      <td>63</td>\n",
       "      <td>68</td>\n",
       "      <td>27</td>\n",
       "    </tr>\n",
       "    <tr>\n",
       "      <th>product_mng</th>\n",
       "      <td>237.12</td>\n",
       "      <td>272.09</td>\n",
       "      <td>1457</td>\n",
       "      <td>76461</td>\n",
       "      <td>1340</td>\n",
       "      <td>51</td>\n",
       "      <td>87</td>\n",
       "      <td>0</td>\n",
       "    </tr>\n",
       "    <tr>\n",
       "      <th>sales</th>\n",
       "      <td>1108.08</td>\n",
       "      <td>1261.27</td>\n",
       "      <td>6708</td>\n",
       "      <td>357094</td>\n",
       "      <td>6405</td>\n",
       "      <td>285</td>\n",
       "      <td>303</td>\n",
       "      <td>68</td>\n",
       "    </tr>\n",
       "    <tr>\n",
       "      <th>support</th>\n",
       "      <td>607.73</td>\n",
       "      <td>686.58</td>\n",
       "      <td>3604</td>\n",
       "      <td>190788</td>\n",
       "      <td>3116</td>\n",
       "      <td>140</td>\n",
       "      <td>158</td>\n",
       "      <td>13</td>\n",
       "    </tr>\n",
       "    <tr>\n",
       "      <th>technical</th>\n",
       "      <td>712.25</td>\n",
       "      <td>828.34</td>\n",
       "      <td>4449</td>\n",
       "      <td>231979</td>\n",
       "      <td>3952</td>\n",
       "      <td>156</td>\n",
       "      <td>294</td>\n",
       "      <td>15</td>\n",
       "    </tr>\n",
       "  </tbody>\n",
       "</table>\n",
       "</div>"
      ],
      "text/plain": [
       "                    satisfaction_level  last_evaluation  number_project  \\\n",
       "salary sales                                                              \n",
       "high   IT                        52.97            59.48             321   \n",
       "       RandD                     29.92            35.73             192   \n",
       "       accounting                45.44            53.62             289   \n",
       "       hr                        30.29            33.47             175   \n",
       "       management               147.00           161.06             850   \n",
       "       marketing                 48.42            53.09             274   \n",
       "       product_mng               41.76            45.27             252   \n",
       "       sales                    174.57           188.25            1038   \n",
       "       support                   92.36           100.69             535   \n",
       "       technical                125.82           140.59             734   \n",
       "low    IT                       371.55           435.84            2311   \n",
       "       RandD                    227.11           259.96            1385   \n",
       "       accounting               205.55           255.57            1361   \n",
       "       hr                       203.90           240.47            1237   \n",
       "       management               109.93           128.31             680   \n",
       "       marketing                242.37           292.49            1508   \n",
       "       product_mng              280.03           327.35            1725   \n",
       "       sales                   1261.16          1488.71            7888   \n",
       "       support                  678.10           824.54            4340   \n",
       "       technical                815.41           992.46            5365   \n",
       "medium IT                       333.94           384.23            2051   \n",
       "       RandD                    230.77           264.75            1456   \n",
       "       accounting               195.52           241.30            1284   \n",
       "       hr                       208.33           249.90            1289   \n",
       "       management               134.52           166.75             902   \n",
       "       marketing                239.97           268.65            1382   \n",
       "       product_mng              237.12           272.09            1457   \n",
       "       sales                   1108.08          1261.27            6708   \n",
       "       support                  607.73           686.58            3604   \n",
       "       technical                712.25           828.34            4449   \n",
       "\n",
       "                    average_montly_hours  time_spend_company  Work_accident  \\\n",
       "salary sales                                                                  \n",
       "high   IT                          16179                 255              4   \n",
       "       RandD                       10187                 180              9   \n",
       "       accounting                  15237                 238             15   \n",
       "       hr                           9408                 131              4   \n",
       "       management                  45056                1162             36   \n",
       "       marketing                   14846                 281             13   \n",
       "       product_mng                 13235                 246             13   \n",
       "       sales                       54117                 955             37   \n",
       "       support                     28762                 454             31   \n",
       "       technical                   40209                 666             30   \n",
       "low    IT                         122642                2094             89   \n",
       "       RandD                       72344                1231             71   \n",
       "       accounting                  71564                1231             40   \n",
       "       hr                          67823                1092             46   \n",
       "       management                  36134                 614             30   \n",
       "       marketing                   82204                1418             62   \n",
       "       product_mng                 90673                1549             68   \n",
       "       sales                      420562                7271            265   \n",
       "       support                    227940                3993            174   \n",
       "       technical                  278605                4661            195   \n",
       "medium IT                         109298                1907             71   \n",
       "       RandD                       75499                1239             54   \n",
       "       accounting                  67491                1233             41   \n",
       "       hr                          69597                1257             39   \n",
       "       management                  45597                 935             37   \n",
       "       marketing                   74023                1364             63   \n",
       "       product_mng                 76461                1340             51   \n",
       "       sales                      357094                6405            285   \n",
       "       support                    190788                3116            140   \n",
       "       technical                  231979                3952            156   \n",
       "\n",
       "                    left  promotion_last_5years  \n",
       "salary sales                                     \n",
       "high   IT              4                      0  \n",
       "       RandD           4                      1  \n",
       "       accounting      5                      6  \n",
       "       hr              6                      2  \n",
       "       management      1                     45  \n",
       "       marketing       9                      5  \n",
       "       product_mng     6                      0  \n",
       "       sales          14                     12  \n",
       "       support         8                      0  \n",
       "       technical      25                      1  \n",
       "low    IT            172                      2  \n",
       "       RandD          55                      3  \n",
       "       accounting     99                      2  \n",
       "       hr             92                      2  \n",
       "       management     59                      7  \n",
       "       marketing     126                     11  \n",
       "       product_mng   105                      0  \n",
       "       sales         697                     20  \n",
       "       support       389                      7  \n",
       "       technical     378                     12  \n",
       "medium IT             97                      1  \n",
       "       RandD          62                     23  \n",
       "       accounting    100                      6  \n",
       "       hr            117                     11  \n",
       "       management     31                     17  \n",
       "       marketing      68                     27  \n",
       "       product_mng    87                      0  \n",
       "       sales         303                     68  \n",
       "       support       158                     13  \n",
       "       technical     294                     15  "
      ]
     },
     "execution_count": 26,
     "metadata": {},
     "output_type": "execute_result"
    }
   ],
   "source": [
    "source = data.groupby(['salary', 'sales'])\n",
    "source.sum()"
   ]
  },
  {
   "cell_type": "code",
   "execution_count": 104,
   "metadata": {},
   "outputs": [
    {
     "data": {
      "text/plain": [
       "0    11428\n",
       "1     3571\n",
       "Name: left, dtype: int64"
      ]
     },
     "execution_count": 104,
     "metadata": {},
     "output_type": "execute_result"
    }
   ],
   "source": [
    "data['left'].value_counts()"
   ]
  },
  {
   "cell_type": "code",
   "execution_count": null,
   "metadata": {},
   "outputs": [],
   "source": [
    "Задание 10. Проверить несколько гипотез для данных, чтобы понять почему сотрудники покидают компанию"
   ]
  },
  {
   "cell_type": "code",
   "execution_count": null,
   "metadata": {},
   "outputs": [],
   "source": [
    "Можно сделать вектор из колонок и постороить линейную регресию и на основе ее предсказывать.\n",
    "Найти те колонки, которые в значительной степени влияют на то, что челвовек уходит из компании.\n",
    "Метод ванхотен подин преобразует \n",
    "классы в вектора, на основе класса невозможно построить линейную регрессию\n"
   ]
  },
  {
   "cell_type": "code",
   "execution_count": null,
   "metadata": {},
   "outputs": [],
   "source": [
    "Гипотеза 1. Аварии на работе влияют на увольнение сотрудников"
   ]
  },
  {
   "cell_type": "code",
   "execution_count": 109,
   "metadata": {
    "scrolled": true
   },
   "outputs": [
    {
     "data": {
      "image/png": "[encoded data removed]",
      "text/plain": [
       "<Figure size 432x288 with 1 Axes>"
      ]
     },
     "metadata": {
      "needs_background": "light"
     },
     "output_type": "display_data"
    }
   ],
   "source": [
    "plt.scatter(data['left'], data['Work_accident'])\n",
    "plt.show()"
   ]
  },
  {
   "cell_type": "code",
   "execution_count": null,
   "metadata": {},
   "outputs": [],
   "source": [
    "Как и ожидалось график имеет распределение бернули, что не дает нам никакого понятия о взаимосвязи двух переменных."
   ]
  },
  {
   "cell_type": "code",
   "execution_count": null,
   "metadata": {},
   "outputs": [],
   "source": [
    "Посчитаем сколько в колонке уволившихся содержиться людей с котороми случались аварии на рабочем месте."
   ]
  },
  {
   "cell_type": "code",
   "execution_count": 110,
   "metadata": {},
   "outputs": [
    {
     "data": {
      "text/plain": [
       "left  Work_accident\n",
       "0     0                0.824991\n",
       "      1                0.175009\n",
       "1     0                0.952674\n",
       "      1                0.047326\n",
       "Name: Work_accident, dtype: float64"
      ]
     },
     "execution_count": 110,
     "metadata": {},
     "output_type": "execute_result"
    }
   ],
   "source": [
    "data.groupby('left')['Work_accident'].value_counts()/data.groupby('left')['Work_accident'].count()"
   ]
  },
  {
   "cell_type": "code",
   "execution_count": null,
   "metadata": {},
   "outputs": [],
   "source": [
    "Из вычислений видно, что у уволившихся прощент аварий на работе меньше всего 4% против 17%. Значит данная переменная не\n",
    "влияет на увольнение сотрудников"
   ]
  },
  {
   "cell_type": "code",
   "execution_count": null,
   "metadata": {},
   "outputs": [],
   "source": [
    "Гипотеза 2. Чем больше среднемесяные отработанные часы, тем реже увольняется"
   ]
  },
  {
   "cell_type": "code",
   "execution_count": null,
   "metadata": {},
   "outputs": [],
   "source": [
    "По матрице корреляции мы видим, что максимальная корреляция у переменной left\n",
    "с переменной average_montly_hours и time_spend_company. Сделаем двухвыборочный t-кретерий."
   ]
  },
  {
   "cell_type": "code",
   "execution_count": 6,
   "metadata": {},
   "outputs": [
    {
     "data": {
      "text/plain": [
       "Ttest_indResult(statistic=-8.752254731850009, pvalue=2.3113035567540143e-18)"
      ]
     },
     "execution_count": 6,
     "metadata": {},
     "output_type": "execute_result"
    }
   ],
   "source": [
    "female_bps = data[data['left']==0]['average_montly_hours']\n",
    "\n",
    "male_bps = data[data['left']==1]['average_montly_hours']\n",
    "\n",
    "stats.ttest_ind(female_bps, male_bps)"
   ]
  },
  {
   "cell_type": "code",
   "execution_count": null,
   "metadata": {},
   "outputs": [],
   "source": [
    "Мы видим, что pvalue=2.3, что намного большей 0.05 значит гипотезу отвергаем."
   ]
  },
  {
   "cell_type": "code",
   "execution_count": null,
   "metadata": {},
   "outputs": [],
   "source": []
  }
 ],
 "metadata": {
  "kernelspec": {
   "display_name": "Python 3",
   "language": "python",
   "name": "python3"
  },
  "language_info": {
   "codemirror_mode": {
    "name": "ipython",
    "version": 3
   },
   "file_extension": ".py",
   "mimetype": "text/x-python",
   "name": "python",
   "nbconvert_exporter": "python",
   "pygments_lexer": "ipython3",
   "version": "3.7.3"
  }
 },
 "nbformat": 4,
 "nbformat_minor": 2
}
